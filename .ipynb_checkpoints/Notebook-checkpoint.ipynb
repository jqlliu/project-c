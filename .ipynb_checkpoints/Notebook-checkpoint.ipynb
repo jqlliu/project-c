{
 "cells": [
  {
   "cell_type": "code",
   "execution_count": 2,
   "id": "b232135a-2f21-47ba-98c4-d90f62503a13",
   "metadata": {
    "tags": []
   },
   "outputs": [
    {
     "data": {
      "text/html": [
       "<div>\n",
       "<style scoped>\n",
       "    .dataframe tbody tr th:only-of-type {\n",
       "        vertical-align: middle;\n",
       "    }\n",
       "\n",
       "    .dataframe tbody tr th {\n",
       "        vertical-align: top;\n",
       "    }\n",
       "\n",
       "    .dataframe thead th {\n",
       "        text-align: right;\n",
       "    }\n",
       "</style>\n",
       "<table border=\"1\" class=\"dataframe\">\n",
       "  <thead>\n",
       "    <tr style=\"text-align: right;\">\n",
       "      <th></th>\n",
       "      <th>INDEX</th>\n",
       "      <th>ID</th>\n",
       "      <th>AGE</th>\n",
       "      <th>INCOME</th>\n",
       "      <th>DRUG USER</th>\n",
       "      <th>REQUIRES ASSISTANCE WITH DAILY TASKS</th>\n",
       "      <th>LIVES IN LONG TERM CARE HOME</th>\n",
       "      <th>BED RIDDEN OR WHEELCHAIR BOUND</th>\n",
       "      <th>ORGAN OR BONE MARROW TRANSPLANT</th>\n",
       "      <th>ADDMITED TO HOSPITAL IN THE LAST 60 DAYS</th>\n",
       "      <th>OBESITY</th>\n",
       "      <th>DIABETES</th>\n",
       "      <th>HEART DISEASE</th>\n",
       "      <th>MENTAL HEALTH ISSUES</th>\n",
       "      <th>CANCER</th>\n",
       "      <th>HAVE YOU BEEN CONVICTED OF A CRIME</th>\n",
       "    </tr>\n",
       "  </thead>\n",
       "  <tbody>\n",
       "    <tr>\n",
       "      <th>0</th>\n",
       "      <td>1</td>\n",
       "      <td>8029</td>\n",
       "      <td>82</td>\n",
       "      <td>54711</td>\n",
       "      <td>0</td>\n",
       "      <td>0</td>\n",
       "      <td>0</td>\n",
       "      <td>0</td>\n",
       "      <td>0</td>\n",
       "      <td>0</td>\n",
       "      <td>0</td>\n",
       "      <td>0</td>\n",
       "      <td>0</td>\n",
       "      <td>0</td>\n",
       "      <td>0</td>\n",
       "      <td>0</td>\n",
       "    </tr>\n",
       "    <tr>\n",
       "      <th>1</th>\n",
       "      <td>2</td>\n",
       "      <td>3207</td>\n",
       "      <td>69</td>\n",
       "      <td>49466</td>\n",
       "      <td>0</td>\n",
       "      <td>0</td>\n",
       "      <td>0</td>\n",
       "      <td>0</td>\n",
       "      <td>0</td>\n",
       "      <td>0</td>\n",
       "      <td>1</td>\n",
       "      <td>0</td>\n",
       "      <td>0</td>\n",
       "      <td>0</td>\n",
       "      <td>1</td>\n",
       "      <td>0</td>\n",
       "    </tr>\n",
       "    <tr>\n",
       "      <th>2</th>\n",
       "      <td>3</td>\n",
       "      <td>6657</td>\n",
       "      <td>91</td>\n",
       "      <td>42604</td>\n",
       "      <td>0</td>\n",
       "      <td>0</td>\n",
       "      <td>0</td>\n",
       "      <td>0</td>\n",
       "      <td>0</td>\n",
       "      <td>0</td>\n",
       "      <td>0</td>\n",
       "      <td>0</td>\n",
       "      <td>1</td>\n",
       "      <td>0</td>\n",
       "      <td>0</td>\n",
       "      <td>0</td>\n",
       "    </tr>\n",
       "    <tr>\n",
       "      <th>3</th>\n",
       "      <td>4</td>\n",
       "      <td>6297</td>\n",
       "      <td>51</td>\n",
       "      <td>51438</td>\n",
       "      <td>1</td>\n",
       "      <td>0</td>\n",
       "      <td>0</td>\n",
       "      <td>0</td>\n",
       "      <td>0</td>\n",
       "      <td>0</td>\n",
       "      <td>0</td>\n",
       "      <td>0</td>\n",
       "      <td>0</td>\n",
       "      <td>1</td>\n",
       "      <td>0</td>\n",
       "      <td>0</td>\n",
       "    </tr>\n",
       "    <tr>\n",
       "      <th>4</th>\n",
       "      <td>5</td>\n",
       "      <td>1592</td>\n",
       "      <td>89</td>\n",
       "      <td>43945</td>\n",
       "      <td>0</td>\n",
       "      <td>0</td>\n",
       "      <td>0</td>\n",
       "      <td>0</td>\n",
       "      <td>0</td>\n",
       "      <td>0</td>\n",
       "      <td>0</td>\n",
       "      <td>0</td>\n",
       "      <td>0</td>\n",
       "      <td>0</td>\n",
       "      <td>0</td>\n",
       "      <td>0</td>\n",
       "    </tr>\n",
       "  </tbody>\n",
       "</table>\n",
       "</div>"
      ],
      "text/plain": [
       "   INDEX    ID  AGE  INCOME  DRUG USER  REQUIRES ASSISTANCE WITH DAILY TASKS  \\\n",
       "0      1  8029   82   54711          0                                     0   \n",
       "1      2  3207   69   49466          0                                     0   \n",
       "2      3  6657   91   42604          0                                     0   \n",
       "3      4  6297   51   51438          1                                     0   \n",
       "4      5  1592   89   43945          0                                     0   \n",
       "\n",
       "   LIVES IN LONG TERM CARE HOME  BED RIDDEN OR WHEELCHAIR BOUND  \\\n",
       "0                             0                               0   \n",
       "1                             0                               0   \n",
       "2                             0                               0   \n",
       "3                             0                               0   \n",
       "4                             0                               0   \n",
       "\n",
       "   ORGAN OR BONE MARROW TRANSPLANT  ADDMITED TO HOSPITAL IN THE LAST 60 DAYS  \\\n",
       "0                                0                                         0   \n",
       "1                                0                                         0   \n",
       "2                                0                                         0   \n",
       "3                                0                                         0   \n",
       "4                                0                                         0   \n",
       "\n",
       "   OBESITY  DIABETES  HEART DISEASE  MENTAL HEALTH ISSUES  CANCER  \\\n",
       "0        0         0              0                     0       0   \n",
       "1        1         0              0                     0       1   \n",
       "2        0         0              1                     0       0   \n",
       "3        0         0              0                     1       0   \n",
       "4        0         0              0                     0       0   \n",
       "\n",
       "   HAVE YOU BEEN CONVICTED OF A CRIME  \n",
       "0                                   0  \n",
       "1                                   0  \n",
       "2                                   0  \n",
       "3                                   0  \n",
       "4                                   0  "
      ]
     },
     "execution_count": 2,
     "metadata": {},
     "output_type": "execute_result"
    }
   ],
   "source": [
    "import pandas as pd\n",
    "df = pd.read_csv('DataSetSunlife.csv')\n",
    "df.head()"
   ]
  },
  {
   "cell_type": "code",
   "execution_count": 3,
   "id": "614d086d-c7ea-4e9f-b1d5-e7179d18619b",
   "metadata": {},
   "outputs": [
    {
     "data": {
      "text/html": [
       "<div>\n",
       "<style scoped>\n",
       "    .dataframe tbody tr th:only-of-type {\n",
       "        vertical-align: middle;\n",
       "    }\n",
       "\n",
       "    .dataframe tbody tr th {\n",
       "        vertical-align: top;\n",
       "    }\n",
       "\n",
       "    .dataframe thead th {\n",
       "        text-align: right;\n",
       "    }\n",
       "</style>\n",
       "<table border=\"1\" class=\"dataframe\">\n",
       "  <thead>\n",
       "    <tr style=\"text-align: right;\">\n",
       "      <th></th>\n",
       "      <th>INDEX</th>\n",
       "      <th>ID</th>\n",
       "      <th>AGE</th>\n",
       "      <th>INCOME</th>\n",
       "      <th>DRUG USER</th>\n",
       "      <th>REQUIRES ASSISTANCE WITH DAILY TASKS</th>\n",
       "      <th>LIVES IN LONG TERM CARE HOME</th>\n",
       "      <th>BED RIDDEN OR WHEELCHAIR BOUND</th>\n",
       "      <th>ORGAN OR BONE MARROW TRANSPLANT</th>\n",
       "      <th>ADDMITED TO HOSPITAL IN THE LAST 60 DAYS</th>\n",
       "      <th>OBESITY</th>\n",
       "      <th>DIABETES</th>\n",
       "      <th>HEART DISEASE</th>\n",
       "      <th>MENTAL HEALTH ISSUES</th>\n",
       "      <th>CANCER</th>\n",
       "      <th>HAVE YOU BEEN CONVICTED OF A CRIME</th>\n",
       "    </tr>\n",
       "  </thead>\n",
       "  <tbody>\n",
       "    <tr>\n",
       "      <th>count</th>\n",
       "      <td>500.000000</td>\n",
       "      <td>500.000000</td>\n",
       "      <td>500.000000</td>\n",
       "      <td>500.000000</td>\n",
       "      <td>500.00000</td>\n",
       "      <td>500.000000</td>\n",
       "      <td>500.000000</td>\n",
       "      <td>500.00000</td>\n",
       "      <td>500.000000</td>\n",
       "      <td>500.000000</td>\n",
       "      <td>500.000000</td>\n",
       "      <td>500.000000</td>\n",
       "      <td>500.000000</td>\n",
       "      <td>500.0000</td>\n",
       "      <td>500.000000</td>\n",
       "      <td>500.0000</td>\n",
       "    </tr>\n",
       "    <tr>\n",
       "      <th>mean</th>\n",
       "      <td>250.500000</td>\n",
       "      <td>5643.426000</td>\n",
       "      <td>69.532000</td>\n",
       "      <td>51415.878000</td>\n",
       "      <td>0.13000</td>\n",
       "      <td>0.450000</td>\n",
       "      <td>0.046000</td>\n",
       "      <td>0.02200</td>\n",
       "      <td>0.004000</td>\n",
       "      <td>0.050000</td>\n",
       "      <td>0.300000</td>\n",
       "      <td>0.110000</td>\n",
       "      <td>0.050000</td>\n",
       "      <td>0.1000</td>\n",
       "      <td>0.430000</td>\n",
       "      <td>0.1000</td>\n",
       "    </tr>\n",
       "    <tr>\n",
       "      <th>std</th>\n",
       "      <td>144.481833</td>\n",
       "      <td>2581.430362</td>\n",
       "      <td>9.522938</td>\n",
       "      <td>20177.572978</td>\n",
       "      <td>0.33664</td>\n",
       "      <td>0.497992</td>\n",
       "      <td>0.209695</td>\n",
       "      <td>0.14683</td>\n",
       "      <td>0.063182</td>\n",
       "      <td>0.218163</td>\n",
       "      <td>0.458717</td>\n",
       "      <td>0.313203</td>\n",
       "      <td>0.218163</td>\n",
       "      <td>0.3003</td>\n",
       "      <td>0.495572</td>\n",
       "      <td>0.3003</td>\n",
       "    </tr>\n",
       "    <tr>\n",
       "      <th>min</th>\n",
       "      <td>1.000000</td>\n",
       "      <td>1032.000000</td>\n",
       "      <td>41.000000</td>\n",
       "      <td>-2727.000000</td>\n",
       "      <td>0.00000</td>\n",
       "      <td>0.000000</td>\n",
       "      <td>0.000000</td>\n",
       "      <td>0.00000</td>\n",
       "      <td>0.000000</td>\n",
       "      <td>0.000000</td>\n",
       "      <td>0.000000</td>\n",
       "      <td>0.000000</td>\n",
       "      <td>0.000000</td>\n",
       "      <td>0.0000</td>\n",
       "      <td>0.000000</td>\n",
       "      <td>0.0000</td>\n",
       "    </tr>\n",
       "    <tr>\n",
       "      <th>25%</th>\n",
       "      <td>125.750000</td>\n",
       "      <td>3433.500000</td>\n",
       "      <td>63.000000</td>\n",
       "      <td>38505.500000</td>\n",
       "      <td>0.00000</td>\n",
       "      <td>0.000000</td>\n",
       "      <td>0.000000</td>\n",
       "      <td>0.00000</td>\n",
       "      <td>0.000000</td>\n",
       "      <td>0.000000</td>\n",
       "      <td>0.000000</td>\n",
       "      <td>0.000000</td>\n",
       "      <td>0.000000</td>\n",
       "      <td>0.0000</td>\n",
       "      <td>0.000000</td>\n",
       "      <td>0.0000</td>\n",
       "    </tr>\n",
       "    <tr>\n",
       "      <th>50%</th>\n",
       "      <td>250.500000</td>\n",
       "      <td>5771.500000</td>\n",
       "      <td>69.000000</td>\n",
       "      <td>51492.500000</td>\n",
       "      <td>0.00000</td>\n",
       "      <td>0.000000</td>\n",
       "      <td>0.000000</td>\n",
       "      <td>0.00000</td>\n",
       "      <td>0.000000</td>\n",
       "      <td>0.000000</td>\n",
       "      <td>0.000000</td>\n",
       "      <td>0.000000</td>\n",
       "      <td>0.000000</td>\n",
       "      <td>0.0000</td>\n",
       "      <td>0.000000</td>\n",
       "      <td>0.0000</td>\n",
       "    </tr>\n",
       "    <tr>\n",
       "      <th>75%</th>\n",
       "      <td>375.250000</td>\n",
       "      <td>7838.750000</td>\n",
       "      <td>76.000000</td>\n",
       "      <td>64484.250000</td>\n",
       "      <td>0.00000</td>\n",
       "      <td>1.000000</td>\n",
       "      <td>0.000000</td>\n",
       "      <td>0.00000</td>\n",
       "      <td>0.000000</td>\n",
       "      <td>0.000000</td>\n",
       "      <td>1.000000</td>\n",
       "      <td>0.000000</td>\n",
       "      <td>0.000000</td>\n",
       "      <td>0.0000</td>\n",
       "      <td>1.000000</td>\n",
       "      <td>0.0000</td>\n",
       "    </tr>\n",
       "    <tr>\n",
       "      <th>max</th>\n",
       "      <td>500.000000</td>\n",
       "      <td>9989.000000</td>\n",
       "      <td>95.000000</td>\n",
       "      <td>116913.000000</td>\n",
       "      <td>1.00000</td>\n",
       "      <td>1.000000</td>\n",
       "      <td>1.000000</td>\n",
       "      <td>1.00000</td>\n",
       "      <td>1.000000</td>\n",
       "      <td>1.000000</td>\n",
       "      <td>1.000000</td>\n",
       "      <td>1.000000</td>\n",
       "      <td>1.000000</td>\n",
       "      <td>1.0000</td>\n",
       "      <td>1.000000</td>\n",
       "      <td>1.0000</td>\n",
       "    </tr>\n",
       "  </tbody>\n",
       "</table>\n",
       "</div>"
      ],
      "text/plain": [
       "            INDEX           ID         AGE         INCOME  DRUG USER  \\\n",
       "count  500.000000   500.000000  500.000000     500.000000  500.00000   \n",
       "mean   250.500000  5643.426000   69.532000   51415.878000    0.13000   \n",
       "std    144.481833  2581.430362    9.522938   20177.572978    0.33664   \n",
       "min      1.000000  1032.000000   41.000000   -2727.000000    0.00000   \n",
       "25%    125.750000  3433.500000   63.000000   38505.500000    0.00000   \n",
       "50%    250.500000  5771.500000   69.000000   51492.500000    0.00000   \n",
       "75%    375.250000  7838.750000   76.000000   64484.250000    0.00000   \n",
       "max    500.000000  9989.000000   95.000000  116913.000000    1.00000   \n",
       "\n",
       "       REQUIRES ASSISTANCE WITH DAILY TASKS  LIVES IN LONG TERM CARE HOME  \\\n",
       "count                            500.000000                    500.000000   \n",
       "mean                               0.450000                      0.046000   \n",
       "std                                0.497992                      0.209695   \n",
       "min                                0.000000                      0.000000   \n",
       "25%                                0.000000                      0.000000   \n",
       "50%                                0.000000                      0.000000   \n",
       "75%                                1.000000                      0.000000   \n",
       "max                                1.000000                      1.000000   \n",
       "\n",
       "       BED RIDDEN OR WHEELCHAIR BOUND  ORGAN OR BONE MARROW TRANSPLANT  \\\n",
       "count                       500.00000                       500.000000   \n",
       "mean                          0.02200                         0.004000   \n",
       "std                           0.14683                         0.063182   \n",
       "min                           0.00000                         0.000000   \n",
       "25%                           0.00000                         0.000000   \n",
       "50%                           0.00000                         0.000000   \n",
       "75%                           0.00000                         0.000000   \n",
       "max                           1.00000                         1.000000   \n",
       "\n",
       "       ADDMITED TO HOSPITAL IN THE LAST 60 DAYS     OBESITY    DIABETES  \\\n",
       "count                                500.000000  500.000000  500.000000   \n",
       "mean                                   0.050000    0.300000    0.110000   \n",
       "std                                    0.218163    0.458717    0.313203   \n",
       "min                                    0.000000    0.000000    0.000000   \n",
       "25%                                    0.000000    0.000000    0.000000   \n",
       "50%                                    0.000000    0.000000    0.000000   \n",
       "75%                                    0.000000    1.000000    0.000000   \n",
       "max                                    1.000000    1.000000    1.000000   \n",
       "\n",
       "       HEART DISEASE  MENTAL HEALTH ISSUES      CANCER  \\\n",
       "count     500.000000              500.0000  500.000000   \n",
       "mean        0.050000                0.1000    0.430000   \n",
       "std         0.218163                0.3003    0.495572   \n",
       "min         0.000000                0.0000    0.000000   \n",
       "25%         0.000000                0.0000    0.000000   \n",
       "50%         0.000000                0.0000    0.000000   \n",
       "75%         0.000000                0.0000    1.000000   \n",
       "max         1.000000                1.0000    1.000000   \n",
       "\n",
       "       HAVE YOU BEEN CONVICTED OF A CRIME  \n",
       "count                            500.0000  \n",
       "mean                               0.1000  \n",
       "std                                0.3003  \n",
       "min                                0.0000  \n",
       "25%                                0.0000  \n",
       "50%                                0.0000  \n",
       "75%                                0.0000  \n",
       "max                                1.0000  "
      ]
     },
     "execution_count": 3,
     "metadata": {},
     "output_type": "execute_result"
    }
   ],
   "source": [
    "df.describe()"
   ]
  },
  {
   "cell_type": "code",
   "execution_count": 4,
   "id": "d2829211-453e-4b6c-853c-5dd1dd26104a",
   "metadata": {},
   "outputs": [
    {
     "data": {
      "text/plain": [
       "(500, 16)"
      ]
     },
     "execution_count": 4,
     "metadata": {},
     "output_type": "execute_result"
    }
   ],
   "source": [
    "df.shape"
   ]
  },
  {
   "cell_type": "code",
   "execution_count": 5,
   "id": "799c4c31-7b8a-4f18-a4f4-a269e4a5123b",
   "metadata": {},
   "outputs": [],
   "source": [
    "firstage = df.iloc[0][\"AGE\"]"
   ]
  },
  {
   "cell_type": "code",
   "execution_count": 6,
   "id": "e0ce1d72-fe37-4c23-9bdf-55540c8b198d",
   "metadata": {},
   "outputs": [
    {
     "name": "stdout",
     "output_type": "stream",
     "text": [
      "82\n"
     ]
    }
   ],
   "source": [
    "print(firstage)"
   ]
  },
  {
   "cell_type": "code",
   "execution_count": 7,
   "id": "14be93ac-336d-4316-9985-1f007753609f",
   "metadata": {},
   "outputs": [],
   "source": [
    "ages = df[\"AGE\"]"
   ]
  },
  {
   "cell_type": "code",
   "execution_count": 8,
   "id": "ff81a214-8f25-4f62-b7ef-b0912159d385",
   "metadata": {},
   "outputs": [
    {
     "name": "stdout",
     "output_type": "stream",
     "text": [
      "0      82\n",
      "1      69\n",
      "2      91\n",
      "3      51\n",
      "4      89\n",
      "       ..\n",
      "495    74\n",
      "496    83\n",
      "497    58\n",
      "498    83\n",
      "499    74\n",
      "Name: AGE, Length: 500, dtype: int64\n"
     ]
    }
   ],
   "source": [
    "print(ages)"
   ]
  },
  {
   "cell_type": "code",
   "execution_count": 9,
   "id": "4a70e729-bc70-48cf-a093-6ce27ab707c3",
   "metadata": {},
   "outputs": [
    {
     "name": "stdout",
     "output_type": "stream",
     "text": [
      "       ID  AGE\n",
      "0    8029   82\n",
      "1    3207   69\n",
      "2    6657   91\n",
      "3    6297   51\n",
      "4    1592   89\n",
      "..    ...  ...\n",
      "495  8913   74\n",
      "496  2664   83\n",
      "497  9275   58\n",
      "498  9537   83\n",
      "499  6401   74\n",
      "\n",
      "[500 rows x 2 columns]\n"
     ]
    }
   ],
   "source": [
    "ages = df[[\"ID\", \"AGE\"]]\n",
    "print(ages)"
   ]
  },
  {
   "cell_type": "code",
   "execution_count": 10,
   "id": "fd8d03a2-ba15-44de-92a8-82cad23237b3",
   "metadata": {},
   "outputs": [
    {
     "name": "stdout",
     "output_type": "stream",
     "text": [
      "     INDEX  AGE\n",
      "0        1   82\n",
      "1        2   69\n",
      "2        3   91\n",
      "3        4   51\n",
      "4        5   89\n",
      "..     ...  ...\n",
      "495    496   74\n",
      "496    497   83\n",
      "497    498   58\n",
      "498    499   83\n",
      "499    500   74\n",
      "\n",
      "[500 rows x 2 columns]\n"
     ]
    }
   ],
   "source": [
    "ages = df[[\"INDEX\", \"AGE\"]]\n",
    "print(ages)"
   ]
  },
  {
   "cell_type": "code",
   "execution_count": 11,
   "id": "9d2b5899-71dd-4030-baef-fe17f9357fb5",
   "metadata": {
    "tags": []
   },
   "outputs": [
    {
     "name": "stdout",
     "output_type": "stream",
     "text": [
      "0.010843631174083268\n"
     ]
    }
   ],
   "source": [
    "import numpy as numpy\n",
    "from sklearn.linear_model import LinearRegression\n",
    "\n",
    "ages = df[[\"AGE\"]]\n",
    "ltcare = df[[\"LIVES IN LONG TERM CARE HOME\"]]\n",
    "\n",
    "reg = LinearRegression().fit(ages, ltcare)\n",
    "print(reg.score(ages, ltcare))"
   ]
  },
  {
   "cell_type": "code",
   "execution_count": 12,
   "id": "23c0e44e-d18d-4115-b16e-1baf76bf7d90",
   "metadata": {},
   "outputs": [
    {
     "name": "stdout",
     "output_type": "stream",
     "text": [
      "[[0.002293]]\n"
     ]
    }
   ],
   "source": [
    "print(reg.coef_)"
   ]
  },
  {
   "cell_type": "code",
   "execution_count": 13,
   "id": "59e8e860-e226-4d87-8bf0-15e067a2a4b7",
   "metadata": {},
   "outputs": [
    {
     "name": "stdout",
     "output_type": "stream",
     "text": [
      "[-0.11343695]\n"
     ]
    }
   ],
   "source": [
    "print(reg.intercept_)"
   ]
  },
  {
   "cell_type": "code",
   "execution_count": 14,
   "id": "fa3894d2-8b79-4788-aef4-7fa643350e9d",
   "metadata": {
    "tags": []
   },
   "outputs": [
    {
     "name": "stdout",
     "output_type": "stream",
     "text": [
      "[[0.03560812]]\n"
     ]
    }
   ],
   "source": [
    "reg = LinearRegression().fit(ages.values, ltcare)\n",
    "print(reg.predict([[65]]))"
   ]
  },
  {
   "cell_type": "code",
   "execution_count": 15,
   "id": "8fad9e82-3654-4c23-9b4a-dbc87c33d79a",
   "metadata": {
    "tags": []
   },
   "outputs": [
    {
     "data": {
      "text/plain": [
       "array([[1., 0.]])"
      ]
     },
     "execution_count": 15,
     "metadata": {},
     "output_type": "execute_result"
    }
   ],
   "source": [
    "from sklearn.tree import DecisionTreeClassifier\n",
    "\n",
    "#from sklearn import cluster\n",
    "#Start here\n",
    "#Plan: Seperate graph into regress and classify\n",
    "#Use these to help\n",
    "\n",
    "def cluster():\n",
    "    xAxis = df.drop(columns = [name, \"INDEX\", \"ID\", \"INCOME\", \"AGE\"])\n",
    "    yAxis = df[name]\n",
    "    return DecisionTreeClassifier(min_samples_leaf = 5).fit(xAxis.values, yAxis)\n",
    "    \n",
    "\n",
    "\n",
    "def modelDisease(name: str) -> DecisionTreeClassifier:\n",
    "    xAxis = df.drop(columns = [name, \"INDEX\", \"ID\"])\n",
    "    yAxis = df[name]\n",
    "    return DecisionTreeClassifier(min_samples_leaf = 5).fit(xAxis.values, yAxis)\n",
    "\n",
    "modDia = modelDisease(\"DIABETES\")\n",
    "tests = [[50,40000,1,1,1,0,1,0,0,1,0,0,0]]\n",
    "modDia.predict_proba(tests)"
   ]
  },
  {
   "cell_type": "code",
   "execution_count": 16,
   "id": "fda070d0-9fc7-4013-a171-689bacdbf1ca",
   "metadata": {
    "tags": []
   },
   "outputs": [
    {
     "data": {
      "text/plain": [
       "array([[1., 0.]])"
      ]
     },
     "execution_count": 16,
     "metadata": {},
     "output_type": "execute_result"
    }
   ],
   "source": [
    "modHea = modelDisease(\"HEART DISEASE\")\n",
    "tests = [[55,40000,0,0,0,0,0,0,0,0,0,0,1]]\n",
    "modHea.predict_proba(tests)"
   ]
  },
  {
   "cell_type": "code",
   "execution_count": 17,
   "id": "d53491cb-3857-4dd8-82c5-c441af06ac4a",
   "metadata": {
    "tags": []
   },
   "outputs": [
    {
     "data": {
      "text/plain": [
       "array([0], dtype=int64)"
      ]
     },
     "execution_count": 17,
     "metadata": {},
     "output_type": "execute_result"
    }
   ],
   "source": [
    "modDia.predict(tests)"
   ]
  },
  {
   "cell_type": "code",
   "execution_count": 18,
   "id": "321c72b2-18df-4344-a8b9-ec242cca4018",
   "metadata": {
    "tags": []
   },
   "outputs": [
    {
     "data": {
      "text/plain": [
       "array([1, 0], dtype=int64)"
      ]
     },
     "execution_count": 18,
     "metadata": {},
     "output_type": "execute_result"
    }
   ],
   "source": [
    "modDia.predict([[69,83000,1,0,0,0,0,0,0,0,0,1,0],[69,83000,0,0,0,0,0,0,0,0,0,0,0] ])"
   ]
  },
  {
   "cell_type": "code",
   "execution_count": 19,
   "id": "64b0fb0a-0cb9-445b-8fa9-05a5363f2974",
   "metadata": {
    "tags": []
   },
   "outputs": [
    {
     "data": {
      "text/plain": [
       "'tree.pdf'"
      ]
     },
     "execution_count": 19,
     "metadata": {},
     "output_type": "execute_result"
    }
   ],
   "source": [
    "from sklearn import tree\n",
    "import graphviz\n",
    "tr = tree.export_graphviz(modDia, out_file=None)\n",
    "graph = graphviz.Source(tr)\n",
    "graph.render(\"tree\")"
   ]
  },
  {
   "cell_type": "code",
   "execution_count": 29,
   "id": "f3d66d31-68d6-40cb-903d-a5e35aaaf637",
   "metadata": {
    "tags": []
   },
   "outputs": [
    {
     "data": {
      "image/png": "[encoded data removed]",
      "text/plain": [
       "<Figure size 640x480 with 1 Axes>"
      ]
     },
     "metadata": {},
     "output_type": "display_data"
    }
   ],
   "source": [
    "#Plot income age disease\n",
    "import matplotlib.pyplot as plt\n",
    "\n",
    "\n",
    "plt.scatter(df[\"AGE\"], df[\"INCOME\"], c = (df[\"HEART DISEASE\"])*20);\n",
    "\n",
    "\n",
    "#plt.scatter(df[\"HEART DISEASE\"], df[\"DIABETES\"],df[\"CANCER\"]*20);"
   ]
  },
  {
   "cell_type": "code",
   "execution_count": 21,
   "id": "c7a0e3f0",
   "metadata": {},
   "outputs": [
    {
     "name": "stdout",
     "output_type": "stream",
     "text": [
      "Mean Squared Error on Testing Set: 203.38\n"
     ]
    }
   ],
   "source": [
    "from sklearn.tree import DecisionTreeRegressor\n",
    "from sklearn.metrics import mean_squared_error\n",
    "from sklearn.model_selection import train_test_split\n",
    "\n",
    "xAxis = df.drop(columns=[\"AGE\", \"INDEX\", \"ID\"])\n",
    "yAxis = df[\"AGE\"]\n",
    "\n",
    "xTrain, xTest, yTrain, yTest = train_test_split(xAxis, yAxis, test_size=0.2, random_state=42)\n",
    "\n",
    "mod = DecisionTreeRegressor().fit(xTrain, yTrain)\n",
    "\n",
    "predTest = mod.predict(xTest)\n",
    "\n",
    "mseTest = mean_squared_error(yTest, predTest)\n",
    "\n",
    "print(\"Mean Squared Error on Testing Set:\", mseTest)\n"
   ]
  },
  {
   "cell_type": "code",
   "execution_count": 22,
   "id": "32dfb508",
   "metadata": {
    "tags": []
   },
   "outputs": [
    {
     "name": "stdout",
     "output_type": "stream",
     "text": [
      "Mean Squared Error on Testing Set: 196.53\n",
      "Percent Error: 19.98419927669231\n"
     ]
    }
   ],
   "source": [
    "from sklearn.tree import DecisionTreeRegressor\n",
    "from sklearn.metrics import mean_squared_error\n",
    "from sklearn.model_selection import train_test_split\n",
    "import numpy as np\n",
    "\n",
    "xAxis = df.drop(columns=[\"AGE\", \"INDEX\", \"ID\"])\n",
    "yAxis = df[\"AGE\"]\n",
    "\n",
    "xTrain, xTest, yTrain, yTest = train_test_split(xAxis, yAxis, test_size=0.2, random_state=42)\n",
    "\n",
    "mod = DecisionTreeRegressor().fit(xTrain, yTrain)\n",
    "\n",
    "predTest = mod.predict(xTest)\n",
    "\n",
    "mseTest = mean_squared_error(yTest, predTest)\n",
    "\n",
    "meanActual = np.mean(yTest)\n",
    "\n",
    "percentError = np.sqrt(mseTest) / meanActual * 100\n",
    "\n",
    "print(\"Mean Squared Error on Testing Set:\", mseTest)\n",
    "print(\"Percent Error:\", percentError)\n"
   ]
  }
 ],
 "metadata": {
  "kernelspec": {
   "display_name": "Python 3 (ipykernel)",
   "language": "python",
   "name": "python3"
  },
  "language_info": {
   "codemirror_mode": {
    "name": "ipython",
    "version": 3
   },
   "file_extension": ".py",
   "mimetype": "text/x-python",
   "name": "python",
   "nbconvert_exporter": "python",
   "pygments_lexer": "ipython3",
   "version": "3.11.5"
  }
 },
 "nbformat": 4,
 "nbformat_minor": 5
}
